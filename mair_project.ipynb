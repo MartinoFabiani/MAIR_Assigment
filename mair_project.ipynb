{
  "nbformat": 4,
  "nbformat_minor": 0,
  "metadata": {
    "colab": {
      "provenance": [],
      "authorship_tag": "ABX9TyNd6+WNenNEZ3nrS90la2Y8",
      "include_colab_link": true
    },
    "kernelspec": {
      "name": "python3",
      "display_name": "Python 3"
    },
    "language_info": {
      "name": "python"
    }
  },
  "cells": [
    {
      "cell_type": "markdown",
      "metadata": {
        "id": "view-in-github",
        "colab_type": "text"
      },
      "source": [
        "<a href=\"https://colab.research.google.com/github/MartinoFabiani/MAIR_Assigment/blob/main/mair_project.ipynb\" target=\"_parent\"><img src=\"https://colab.research.google.com/assets/colab-badge.svg\" alt=\"Open In Colab\"/></a>"
      ]
    },
    {
      "cell_type": "code",
      "source": [
        "pip install Levenshtein"
      ],
      "metadata": {
        "colab": {
          "base_uri": "https://localhost:8080/"
        },
        "id": "YjvdZHBkkc-l",
        "outputId": "33962f81-b63d-4759-9249-a88818de7e26"
      },
      "execution_count": 4,
      "outputs": [
        {
          "output_type": "stream",
          "name": "stdout",
          "text": [
            "Collecting Levenshtein\n",
            "  Downloading Levenshtein-0.23.0-cp310-cp310-manylinux_2_17_x86_64.manylinux2014_x86_64.whl (169 kB)\n",
            "\u001b[2K     \u001b[90m━━━━━━━━━━━━━━━━━━━━━━━━━━━━━━━━━━━━━━━\u001b[0m \u001b[32m169.4/169.4 kB\u001b[0m \u001b[31m3.7 MB/s\u001b[0m eta \u001b[36m0:00:00\u001b[0m\n",
            "\u001b[?25hCollecting rapidfuzz<4.0.0,>=3.1.0 (from Levenshtein)\n",
            "  Downloading rapidfuzz-3.4.0-cp310-cp310-manylinux_2_17_x86_64.manylinux2014_x86_64.whl (3.2 MB)\n",
            "\u001b[2K     \u001b[90m━━━━━━━━━━━━━━━━━━━━━━━━━━━━━━━━━━━━━━━━\u001b[0m \u001b[32m3.2/3.2 MB\u001b[0m \u001b[31m52.6 MB/s\u001b[0m eta \u001b[36m0:00:00\u001b[0m\n",
            "\u001b[?25hInstalling collected packages: rapidfuzz, Levenshtein\n",
            "Successfully installed Levenshtein-0.23.0 rapidfuzz-3.4.0\n"
          ]
        }
      ]
    },
    {
      "cell_type": "code",
      "source": [
        "!python main.py"
      ],
      "metadata": {
        "colab": {
          "base_uri": "https://localhost:8080/"
        },
        "id": "flJGfwHdkXGY",
        "outputId": "c5e77fff-92c7-4c2f-a7c9-2f9625b0fb91"
      },
      "execution_count": 5,
      "outputs": [
        {
          "output_type": "stream",
          "name": "stdout",
          "text": [
            "Task 01869: You want to find a moderately priced restaurant and it should serve basque food. If there is no such venue how about british type of food. You want to know the phone number of the venue.\n",
            "\u001b[31;1mText to speech is currently not available due to missing dependencies!\u001b[0m\n",
            "System: Hello, welcome to the Cambridge restaurant system! You can ask for restaurants by area, price range or food type. How may I help you?\n",
            "User: hi\n",
            "System: Would you like something in the cheap, moderate, or expensive price range?\n",
            "User: cheap\n",
            "System: What part of town do you have in mind? For example the north or east part of town.\n",
            "User: north\n",
            "System: royal spice is a great restaurant\n",
            "User: yes\n",
            "System: Would you like some additional information for royal spice? For example you can ask for an address or phone number.\n",
            "User: no\n",
            "System: Thank you, have a great day.\n",
            "\u001b[1mAnnouncement: the dialog has ended. Start a new dialog? [y/n] \u001b[0mn\n"
          ]
        }
      ]
    }
  ]
}